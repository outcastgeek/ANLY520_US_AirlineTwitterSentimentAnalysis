{
 "cells": [
  {
   "cell_type": "markdown",
   "metadata": {
    "colab_type": "text",
    "id": "4cH9G0yAWER9"
   },
   "source": [
    "**Group Members:**\n",
    "\n",
    "* Chandana Vangapalli (ID: 233323)\n",
    "* Yizhou Yu (ID: 236819)\n",
    "* Akpany Aubin Benjamin Ebby (ID: 232836 )\n",
    "* Bangyi Wu (ID: 183398)\n"
   ]
  },
  {
   "cell_type": "markdown",
   "metadata": {
    "colab_type": "text",
    "id": "6QY4Qsd6WX61"
   },
   "source": [
    "**Objective:**\n",
    "\n",
    "The primary objective of our project is to apply sentiment analysis to the US airline industry twitter data to understand the trends in customer perceptions about some of the biggest airline companies in the USA. Further, we will also investigate what factors drive positive and negative sentiments and how this would impact the overall industry.  \n"
   ]
  },
  {
   "cell_type": "markdown",
   "metadata": {
    "colab_type": "text",
    "id": "Ii6-AXBzWdY2"
   },
   "source": [
    "**Data:**\n",
    "\n",
    "We will use airline industry tweets for our analysis. Alternatively, we may use twitter datasets sourced from Kaggle.\n"
   ]
  },
  {
   "cell_type": "code",
   "execution_count": 44,
   "metadata": {},
   "outputs": [
    {
     "name": "stdout",
     "output_type": "stream",
     "text": [
      "The rpy2.ipython extension is already loaded. To reload it, use:\n",
      "  %reload_ext rpy2.ipython\n"
     ]
    }
   ],
   "source": [
    "%load_ext rpy2.ipython\n",
    "import warnings\n",
    "warnings.filterwarnings('ignore')"
   ]
  },
  {
   "cell_type": "code",
   "execution_count": 45,
   "metadata": {
    "colab": {},
    "colab_type": "code",
    "id": "E9crwZJOWjUh"
   },
   "outputs": [],
   "source": [
    "import itertools\n",
    "\n",
    "import numpy\n",
    "import pandas as pd\n",
    "\n",
    "from sklearn.model_selection import train_test_split\n",
    "from sklearn.metrics import confusion_matrix, classification_report\n",
    "from sklearn.feature_extraction.text import CountVectorizer\n",
    "from sklearn.naive_bayes import MultinomialNB\n",
    "\n",
    "import nltk\n",
    "from nltk.tree import *\n",
    "\n",
    "import matplotlib.pyplot as plt\n",
    "import seaborn as sns\n",
    "\n",
    "import re\n",
    "import string\n",
    "\n",
    "from collections import Counter"
   ]
  },
  {
   "cell_type": "code",
   "execution_count": 46,
   "metadata": {},
   "outputs": [],
   "source": [
    "%%R\n",
    "library(dplyr)\n",
    "library(reticulate)\n",
    "library(ggplot2)\n",
    "library(rtweet)"
   ]
  },
  {
   "cell_type": "markdown",
   "metadata": {},
   "source": [
    "# U.S. Airline Twitter"
   ]
  },
  {
   "cell_type": "markdown",
   "metadata": {},
   "source": [
    "**Load the Data**"
   ]
  },
  {
   "cell_type": "code",
   "execution_count": 47,
   "metadata": {},
   "outputs": [
    {
     "name": "stdout",
     "output_type": "stream",
     "text": [
      "[nltk_data] Downloading package stopwords to /home/gitpod/nltk_data...\n",
      "[nltk_data]   Package stopwords is already up-to-date!\n"
     ]
    }
   ],
   "source": [
    "nltk.download(\"stopwords\") # Load StopWords\n",
    "from nltk.corpus import stopwords\n",
    "set(stopwords.words('english'))\n",
    "\n",
    "tweets_dataset = pd.read_csv(\"data/US_Airline_Tweets.csv\") # Load Data\n",
    "\n",
    "# %Rpush tweets_dataset"
   ]
  },
  {
   "cell_type": "code",
   "execution_count": 48,
   "metadata": {},
   "outputs": [
    {
     "name": "stdout",
     "output_type": "stream",
     "text": [
      "<class 'pandas.core.frame.DataFrame'>\n",
      "RangeIndex: 14640 entries, 0 to 14639\n",
      "Data columns (total 15 columns):\n",
      "tweet_id                        14640 non-null int64\n",
      "airline_sentiment               14640 non-null object\n",
      "airline_sentiment_confidence    14640 non-null float64\n",
      "negativereason                  9178 non-null object\n",
      "negativereason_confidence       10522 non-null float64\n",
      "airline                         14640 non-null object\n",
      "airline_sentiment_gold          40 non-null object\n",
      "name                            14640 non-null object\n",
      "negativereason_gold             32 non-null object\n",
      "retweet_count                   14640 non-null int64\n",
      "text                            14640 non-null object\n",
      "tweet_coord                     1019 non-null object\n",
      "tweet_created                   14640 non-null object\n",
      "tweet_location                  9907 non-null object\n",
      "user_timezone                   9820 non-null object\n",
      "dtypes: float64(2), int64(2), object(11)\n",
      "memory usage: 1.7+ MB\n"
     ]
    }
   ],
   "source": [
    "tweets_dataset.info()"
   ]
  },
  {
   "cell_type": "code",
   "execution_count": 49,
   "metadata": {},
   "outputs": [
    {
     "data": {
      "text/html": [
       "<div>\n",
       "<style scoped>\n",
       "    .dataframe tbody tr th:only-of-type {\n",
       "        vertical-align: middle;\n",
       "    }\n",
       "\n",
       "    .dataframe tbody tr th {\n",
       "        vertical-align: top;\n",
       "    }\n",
       "\n",
       "    .dataframe thead th {\n",
       "        text-align: right;\n",
       "    }\n",
       "</style>\n",
       "<table border=\"1\" class=\"dataframe\">\n",
       "  <thead>\n",
       "    <tr style=\"text-align: right;\">\n",
       "      <th></th>\n",
       "      <th>tweet_id</th>\n",
       "      <th>airline_sentiment_confidence</th>\n",
       "      <th>negativereason_confidence</th>\n",
       "      <th>retweet_count</th>\n",
       "    </tr>\n",
       "  </thead>\n",
       "  <tbody>\n",
       "    <tr>\n",
       "      <th>count</th>\n",
       "      <td>1.464000e+04</td>\n",
       "      <td>14640.000000</td>\n",
       "      <td>10522.000000</td>\n",
       "      <td>14640.000000</td>\n",
       "    </tr>\n",
       "    <tr>\n",
       "      <th>mean</th>\n",
       "      <td>5.692184e+17</td>\n",
       "      <td>0.900169</td>\n",
       "      <td>0.638298</td>\n",
       "      <td>0.082650</td>\n",
       "    </tr>\n",
       "    <tr>\n",
       "      <th>std</th>\n",
       "      <td>7.791112e+14</td>\n",
       "      <td>0.162830</td>\n",
       "      <td>0.330440</td>\n",
       "      <td>0.745778</td>\n",
       "    </tr>\n",
       "    <tr>\n",
       "      <th>min</th>\n",
       "      <td>5.675883e+17</td>\n",
       "      <td>0.335000</td>\n",
       "      <td>0.000000</td>\n",
       "      <td>0.000000</td>\n",
       "    </tr>\n",
       "    <tr>\n",
       "      <th>25%</th>\n",
       "      <td>5.685592e+17</td>\n",
       "      <td>0.692300</td>\n",
       "      <td>0.360600</td>\n",
       "      <td>0.000000</td>\n",
       "    </tr>\n",
       "    <tr>\n",
       "      <th>50%</th>\n",
       "      <td>5.694779e+17</td>\n",
       "      <td>1.000000</td>\n",
       "      <td>0.670600</td>\n",
       "      <td>0.000000</td>\n",
       "    </tr>\n",
       "    <tr>\n",
       "      <th>75%</th>\n",
       "      <td>5.698905e+17</td>\n",
       "      <td>1.000000</td>\n",
       "      <td>1.000000</td>\n",
       "      <td>0.000000</td>\n",
       "    </tr>\n",
       "    <tr>\n",
       "      <th>max</th>\n",
       "      <td>5.703106e+17</td>\n",
       "      <td>1.000000</td>\n",
       "      <td>1.000000</td>\n",
       "      <td>44.000000</td>\n",
       "    </tr>\n",
       "  </tbody>\n",
       "</table>\n",
       "</div>"
      ],
      "text/plain": [
       "           tweet_id  airline_sentiment_confidence  negativereason_confidence  \\\n",
       "count  1.464000e+04                  14640.000000               10522.000000   \n",
       "mean   5.692184e+17                      0.900169                   0.638298   \n",
       "std    7.791112e+14                      0.162830                   0.330440   \n",
       "min    5.675883e+17                      0.335000                   0.000000   \n",
       "25%    5.685592e+17                      0.692300                   0.360600   \n",
       "50%    5.694779e+17                      1.000000                   0.670600   \n",
       "75%    5.698905e+17                      1.000000                   1.000000   \n",
       "max    5.703106e+17                      1.000000                   1.000000   \n",
       "\n",
       "       retweet_count  \n",
       "count   14640.000000  \n",
       "mean        0.082650  \n",
       "std         0.745778  \n",
       "min         0.000000  \n",
       "25%         0.000000  \n",
       "50%         0.000000  \n",
       "75%         0.000000  \n",
       "max        44.000000  "
      ]
     },
     "execution_count": 49,
     "metadata": {},
     "output_type": "execute_result"
    }
   ],
   "source": [
    "tweets_dataset.describe()"
   ]
  },
  {
   "cell_type": "code",
   "execution_count": 50,
   "metadata": {},
   "outputs": [
    {
     "data": {
      "text/html": [
       "<div>\n",
       "<style scoped>\n",
       "    .dataframe tbody tr th:only-of-type {\n",
       "        vertical-align: middle;\n",
       "    }\n",
       "\n",
       "    .dataframe tbody tr th {\n",
       "        vertical-align: top;\n",
       "    }\n",
       "\n",
       "    .dataframe thead th {\n",
       "        text-align: right;\n",
       "    }\n",
       "</style>\n",
       "<table border=\"1\" class=\"dataframe\">\n",
       "  <thead>\n",
       "    <tr style=\"text-align: right;\">\n",
       "      <th></th>\n",
       "      <th>tweet_id</th>\n",
       "      <th>airline_sentiment</th>\n",
       "      <th>airline_sentiment_confidence</th>\n",
       "      <th>negativereason</th>\n",
       "      <th>negativereason_confidence</th>\n",
       "      <th>airline</th>\n",
       "      <th>airline_sentiment_gold</th>\n",
       "      <th>name</th>\n",
       "      <th>negativereason_gold</th>\n",
       "      <th>retweet_count</th>\n",
       "      <th>text</th>\n",
       "      <th>tweet_coord</th>\n",
       "      <th>tweet_created</th>\n",
       "      <th>tweet_location</th>\n",
       "      <th>user_timezone</th>\n",
       "    </tr>\n",
       "  </thead>\n",
       "  <tbody>\n",
       "    <tr>\n",
       "      <th>0</th>\n",
       "      <td>570306133677760513</td>\n",
       "      <td>neutral</td>\n",
       "      <td>1.0000</td>\n",
       "      <td>NaN</td>\n",
       "      <td>NaN</td>\n",
       "      <td>Virgin America</td>\n",
       "      <td>NaN</td>\n",
       "      <td>cairdin</td>\n",
       "      <td>NaN</td>\n",
       "      <td>0</td>\n",
       "      <td>@VirginAmerica What @dhepburn said.</td>\n",
       "      <td>NaN</td>\n",
       "      <td>2015-02-24 11:35:52 -0800</td>\n",
       "      <td>NaN</td>\n",
       "      <td>Eastern Time (US &amp; Canada)</td>\n",
       "    </tr>\n",
       "    <tr>\n",
       "      <th>1</th>\n",
       "      <td>570301130888122368</td>\n",
       "      <td>positive</td>\n",
       "      <td>0.3486</td>\n",
       "      <td>NaN</td>\n",
       "      <td>0.0000</td>\n",
       "      <td>Virgin America</td>\n",
       "      <td>NaN</td>\n",
       "      <td>jnardino</td>\n",
       "      <td>NaN</td>\n",
       "      <td>0</td>\n",
       "      <td>@VirginAmerica plus you've added commercials t...</td>\n",
       "      <td>NaN</td>\n",
       "      <td>2015-02-24 11:15:59 -0800</td>\n",
       "      <td>NaN</td>\n",
       "      <td>Pacific Time (US &amp; Canada)</td>\n",
       "    </tr>\n",
       "    <tr>\n",
       "      <th>2</th>\n",
       "      <td>570301083672813571</td>\n",
       "      <td>neutral</td>\n",
       "      <td>0.6837</td>\n",
       "      <td>NaN</td>\n",
       "      <td>NaN</td>\n",
       "      <td>Virgin America</td>\n",
       "      <td>NaN</td>\n",
       "      <td>yvonnalynn</td>\n",
       "      <td>NaN</td>\n",
       "      <td>0</td>\n",
       "      <td>@VirginAmerica I didn't today... Must mean I n...</td>\n",
       "      <td>NaN</td>\n",
       "      <td>2015-02-24 11:15:48 -0800</td>\n",
       "      <td>Lets Play</td>\n",
       "      <td>Central Time (US &amp; Canada)</td>\n",
       "    </tr>\n",
       "    <tr>\n",
       "      <th>3</th>\n",
       "      <td>570301031407624196</td>\n",
       "      <td>negative</td>\n",
       "      <td>1.0000</td>\n",
       "      <td>Bad Flight</td>\n",
       "      <td>0.7033</td>\n",
       "      <td>Virgin America</td>\n",
       "      <td>NaN</td>\n",
       "      <td>jnardino</td>\n",
       "      <td>NaN</td>\n",
       "      <td>0</td>\n",
       "      <td>@VirginAmerica it's really aggressive to blast...</td>\n",
       "      <td>NaN</td>\n",
       "      <td>2015-02-24 11:15:36 -0800</td>\n",
       "      <td>NaN</td>\n",
       "      <td>Pacific Time (US &amp; Canada)</td>\n",
       "    </tr>\n",
       "    <tr>\n",
       "      <th>4</th>\n",
       "      <td>570300817074462722</td>\n",
       "      <td>negative</td>\n",
       "      <td>1.0000</td>\n",
       "      <td>Can't Tell</td>\n",
       "      <td>1.0000</td>\n",
       "      <td>Virgin America</td>\n",
       "      <td>NaN</td>\n",
       "      <td>jnardino</td>\n",
       "      <td>NaN</td>\n",
       "      <td>0</td>\n",
       "      <td>@VirginAmerica and it's a really big bad thing...</td>\n",
       "      <td>NaN</td>\n",
       "      <td>2015-02-24 11:14:45 -0800</td>\n",
       "      <td>NaN</td>\n",
       "      <td>Pacific Time (US &amp; Canada)</td>\n",
       "    </tr>\n",
       "  </tbody>\n",
       "</table>\n",
       "</div>"
      ],
      "text/plain": [
       "             tweet_id airline_sentiment  airline_sentiment_confidence  \\\n",
       "0  570306133677760513           neutral                        1.0000   \n",
       "1  570301130888122368          positive                        0.3486   \n",
       "2  570301083672813571           neutral                        0.6837   \n",
       "3  570301031407624196          negative                        1.0000   \n",
       "4  570300817074462722          negative                        1.0000   \n",
       "\n",
       "  negativereason  negativereason_confidence         airline  \\\n",
       "0            NaN                        NaN  Virgin America   \n",
       "1            NaN                     0.0000  Virgin America   \n",
       "2            NaN                        NaN  Virgin America   \n",
       "3     Bad Flight                     0.7033  Virgin America   \n",
       "4     Can't Tell                     1.0000  Virgin America   \n",
       "\n",
       "  airline_sentiment_gold        name negativereason_gold  retweet_count  \\\n",
       "0                    NaN     cairdin                 NaN              0   \n",
       "1                    NaN    jnardino                 NaN              0   \n",
       "2                    NaN  yvonnalynn                 NaN              0   \n",
       "3                    NaN    jnardino                 NaN              0   \n",
       "4                    NaN    jnardino                 NaN              0   \n",
       "\n",
       "                                                text tweet_coord  \\\n",
       "0                @VirginAmerica What @dhepburn said.         NaN   \n",
       "1  @VirginAmerica plus you've added commercials t...         NaN   \n",
       "2  @VirginAmerica I didn't today... Must mean I n...         NaN   \n",
       "3  @VirginAmerica it's really aggressive to blast...         NaN   \n",
       "4  @VirginAmerica and it's a really big bad thing...         NaN   \n",
       "\n",
       "               tweet_created tweet_location               user_timezone  \n",
       "0  2015-02-24 11:35:52 -0800            NaN  Eastern Time (US & Canada)  \n",
       "1  2015-02-24 11:15:59 -0800            NaN  Pacific Time (US & Canada)  \n",
       "2  2015-02-24 11:15:48 -0800      Lets Play  Central Time (US & Canada)  \n",
       "3  2015-02-24 11:15:36 -0800            NaN  Pacific Time (US & Canada)  \n",
       "4  2015-02-24 11:14:45 -0800            NaN  Pacific Time (US & Canada)  "
      ]
     },
     "execution_count": 50,
     "metadata": {},
     "output_type": "execute_result"
    }
   ],
   "source": [
    "tweets_dataset.head()"
   ]
  },
  {
   "cell_type": "code",
   "execution_count": 51,
   "metadata": {},
   "outputs": [],
   "source": [
    "%%R\n",
    "\n",
    "tweets_df <- read.csv(\"data/US_Airline_Tweets.csv\", encoding = \"UTF-8\", header=TRUE, stringsAsFactors=FALSE)"
   ]
  },
  {
   "cell_type": "markdown",
   "metadata": {},
   "source": [
    "**Data Exploration**"
   ]
  },
  {
   "cell_type": "markdown",
   "metadata": {},
   "source": [
    "_Data Columns:_"
   ]
  },
  {
   "cell_type": "code",
   "execution_count": 52,
   "metadata": {},
   "outputs": [
    {
     "data": {
      "text/plain": [
       " [1] \"tweet_id\"                     \"airline_sentiment\"           \n",
       " [3] \"airline_sentiment_confidence\" \"negativereason\"              \n",
       " [5] \"negativereason_confidence\"    \"airline\"                     \n",
       " [7] \"airline_sentiment_gold\"       \"name\"                        \n",
       " [9] \"negativereason_gold\"          \"retweet_count\"               \n",
       "[11] \"text\"                         \"tweet_coord\"                 \n",
       "[13] \"tweet_created\"                \"tweet_location\"              \n",
       "[15] \"user_timezone\"               \n"
      ]
     },
     "metadata": {},
     "output_type": "display_data"
    }
   ],
   "source": [
    "%%R\n",
    "tweets_df %>% colnames() # Columns"
   ]
  },
  {
   "cell_type": "markdown",
   "metadata": {},
   "source": [
    "_Data Dimention / Shape:_"
   ]
  },
  {
   "cell_type": "code",
   "execution_count": 53,
   "metadata": {},
   "outputs": [
    {
     "data": {
      "text/plain": [
       "[1] 14640    15\n"
      ]
     },
     "metadata": {},
     "output_type": "display_data"
    }
   ],
   "source": [
    "%%R\n",
    "tweets_df %>% dim() # Shape / Dimension"
   ]
  },
  {
   "cell_type": "markdown",
   "metadata": {},
   "source": [
    "_Data Summary:_"
   ]
  },
  {
   "cell_type": "code",
   "execution_count": 54,
   "metadata": {},
   "outputs": [
    {
     "data": {
      "text/plain": [
       "    tweet_id         airline_sentiment  airline_sentiment_confidence\n",
       " Min.   :5.676e+17   Length:14640       Min.   :0.3350              \n",
       " 1st Qu.:5.686e+17   Class :character   1st Qu.:0.6923              \n",
       " Median :5.695e+17   Mode  :character   Median :1.0000              \n",
       " Mean   :5.692e+17                      Mean   :0.9002              \n",
       " 3rd Qu.:5.699e+17                      3rd Qu.:1.0000              \n",
       " Max.   :5.703e+17                      Max.   :1.0000              \n",
       "                                                                    \n",
       " negativereason     negativereason_confidence   airline         \n",
       " Length:14640       Min.   :0.000             Length:14640      \n",
       " Class :character   1st Qu.:0.361             Class :character  \n",
       " Mode  :character   Median :0.671             Mode  :character  \n",
       "                    Mean   :0.638                               \n",
       "                    3rd Qu.:1.000                               \n",
       "                    Max.   :1.000                               \n",
       "                    NA's   :4118                                \n",
       " airline_sentiment_gold     name           negativereason_gold\n",
       " Length:14640           Length:14640       Length:14640       \n",
       " Class :character       Class :character   Class :character   \n",
       " Mode  :character       Mode  :character   Mode  :character   \n",
       "                                                              \n",
       "                                                              \n",
       "                                                              \n",
       "                                                              \n",
       " retweet_count          text           tweet_coord        tweet_created     \n",
       " Min.   : 0.00000   Length:14640       Length:14640       Length:14640      \n",
       " 1st Qu.: 0.00000   Class :character   Class :character   Class :character  \n",
       " Median : 0.00000   Mode  :character   Mode  :character   Mode  :character  \n",
       " Mean   : 0.08265                                                           \n",
       " 3rd Qu.: 0.00000                                                           \n",
       " Max.   :44.00000                                                           \n",
       "                                                                            \n",
       " tweet_location     user_timezone     \n",
       " Length:14640       Length:14640      \n",
       " Class :character   Class :character  \n",
       " Mode  :character   Mode  :character  \n",
       "                                      \n",
       "                                      \n",
       "                                      \n",
       "                                      \n"
      ]
     },
     "metadata": {},
     "output_type": "display_data"
    }
   ],
   "source": [
    "%%R\n",
    "tweets_df %>% summary() # Data Summary"
   ]
  },
  {
   "cell_type": "markdown",
   "metadata": {},
   "source": [
    "_positive, negative, and neutral tweets shapes:_"
   ]
  },
  {
   "cell_type": "code",
   "execution_count": 55,
   "metadata": {},
   "outputs": [
    {
     "name": "stdout",
     "output_type": "stream",
     "text": [
      "positive tweets shape: (14640,)\n",
      "negative tweets shape: (14640,)\n",
      "neutral tweets shape: (14640,)\n"
     ]
    }
   ],
   "source": [
    "positive_tweets = tweets_dataset['airline_sentiment'].str.contains(\"positive\")\n",
    "negative_tweets = tweets_dataset['airline_sentiment'].str.contains(\"negative\")\n",
    "neutral_tweets = tweets_dataset['airline_sentiment'].str.contains(\"neutral\")\n",
    "\n",
    "\n",
    "print(f'positive tweets shape: {positive_tweets.shape}')\n",
    "print(f'negative tweets shape: {negative_tweets.shape}')\n",
    "print(f'neutral tweets shape: {neutral_tweets.shape}')"
   ]
  },
  {
   "cell_type": "markdown",
   "metadata": {},
   "source": [
    "_airlines tweets shapes:_"
   ]
  },
  {
   "cell_type": "code",
   "execution_count": 56,
   "metadata": {},
   "outputs": [
    {
     "name": "stdout",
     "output_type": "stream",
     "text": [
      "American Tweets Shape: (14640,)\n",
      "Delta Tweets Shape: (14640,)\n",
      "Southwest Tweets Shape: (14640,)\n",
      "United Tweets Shape: (14640,)\n",
      "VAmerica Tweets Shape: (14640,)\n",
      "USair Tweets Shape: (14640,)\n"
     ]
    }
   ],
   "source": [
    "American = tweets_dataset['airline'].str.contains(\"American\")\n",
    "Delta = tweets_dataset['airline'].str.contains(\"Delta\")\n",
    "Southwest = tweets_dataset['airline'].str.contains(\"Southwest\")\n",
    "United = tweets_dataset['airline'].str.contains(\"United\")\n",
    "VAmerica = tweets_dataset['airline'].str.contains(\"Virgin America\")\n",
    "USair = tweets_dataset['airline'].str.contains(\"US Airways\")\n",
    "\n",
    "print(f'American Tweets Shape: {American.shape}')\n",
    "print(f'Delta Tweets Shape: {Delta.shape}')\n",
    "print(f'Southwest Tweets Shape: {Southwest.shape}')\n",
    "print(f'United Tweets Shape: {United.shape}')\n",
    "print(f'VAmerica Tweets Shape: {VAmerica.shape}')\n",
    "print(f'USair Tweets Shape: {USair.shape}')"
   ]
  },
  {
   "cell_type": "code",
   "execution_count": 57,
   "metadata": {},
   "outputs": [
    {
     "data": {
      "image/png": "[encoded data removed]"
     },
     "metadata": {},
     "output_type": "display_data"
    }
   ],
   "source": [
    "%%R\n",
    "tweets_sentiment_groups_df <- tweets_df %>%\n",
    "    group_by(airline_sentiment) %>%\n",
    "    rowwise() %>%\n",
    "    mutate(SENTIMENT_COUNT = n()) %>%\n",
    "    select(airline, airline_sentiment, SENTIMENT_COUNT)\n",
    "\n",
    "# tweets_sentiment_groups_df %>% head()\n",
    "    \n",
    "ggplot(tweets_sentiment_groups_df, aes(x = airline, y = SENTIMENT_COUNT, fill=airline_sentiment)) +\n",
    "  geom_bar(stat=\"identity\") +\n",
    "  coord_flip() +\n",
    "  scale_y_continuous(name=\"Sentiment Tallies\", labels = scales::comma) +\n",
    "  ggtitle(\"Airline Sentiment Type Counts\")"
   ]
  },
  {
   "cell_type": "markdown",
   "metadata": {},
   "source": [
    "**Train Test Split**"
   ]
  },
  {
   "cell_type": "code",
   "execution_count": 58,
   "metadata": {},
   "outputs": [
    {
     "name": "stdout",
     "output_type": "stream",
     "text": [
      "tweets_dataset_train tweets shape: (11712, 15)\n",
      "tweets_dataset_test tweets shape: (2928, 15)\n"
     ]
    }
   ],
   "source": [
    "tweets_dataset_train, tweets_dataset_test = train_test_split(\n",
    "    tweets_dataset, test_size=0.2\n",
    ")\n",
    "\n",
    "print(f'tweets_dataset_train tweets shape: {tweets_dataset_train.shape}')\n",
    "print(f'tweets_dataset_test tweets shape: {tweets_dataset_test.shape}')"
   ]
  },
  {
   "cell_type": "markdown",
   "metadata": {},
   "source": [
    "**Pre-Processing Data**"
   ]
  },
  {
   "cell_type": "code",
   "execution_count": 59,
   "metadata": {},
   "outputs": [],
   "source": [
    "dataset = tweets_dataset.copy()[['airline_sentiment', 'text']]"
   ]
  },
  {
   "cell_type": "markdown",
   "metadata": {},
   "source": [
    "_Dividing dataset into 3 categories by sentiment (might not be needed):_"
   ]
  },
  {
   "cell_type": "code",
   "execution_count": 60,
   "metadata": {},
   "outputs": [],
   "source": [
    "positive = dataset['airline_sentiment'].str.contains(\"positive\")\n",
    "negative = dataset['airline_sentiment'].str.contains(\"negative\")\n",
    "neutral = dataset['airline_sentiment'].str.contains(\"neutral\")"
   ]
  },
  {
   "cell_type": "markdown",
   "metadata": {},
   "source": [
    "If the categories have different number of tweets the classifier could learn to guess the most prevalent category, skewing the results, so, we balance the number of tweets in each category"
   ]
  },
  {
   "cell_type": "markdown",
   "metadata": {},
   "source": [
    "_We are going for 3 categories - positive, negative and neutral:_"
   ]
  },
  {
   "cell_type": "code",
   "execution_count": 61,
   "metadata": {},
   "outputs": [],
   "source": [
    "dataset_positive = dataset.copy()[dataset.airline_sentiment == 'positive'][:2363]\n",
    "dataset_negative = dataset.copy()[dataset.airline_sentiment == 'negative'][:2363]\n",
    "dataset_neutral = dataset.copy()[dataset.airline_sentiment == 'neutral'][:2363]\n",
    "\n",
    "dataset = pd.concat(\n",
    "    [dataset_positive, dataset_negative, dataset_neutral],\n",
    "    ignore_index=True\n",
    ").reset_index(drop=True)"
   ]
  },
  {
   "cell_type": "markdown",
   "metadata": {},
   "source": [
    "Defining a function to process tweets for analysis\n",
    "Tweets contain several forms of punctuation, capitalizations, url links, etc.\n",
    "They need to be cleaned prior to analysis"
   ]
  },
  {
   "cell_type": "code",
   "execution_count": 62,
   "metadata": {},
   "outputs": [],
   "source": [
    "def tweet_clean(tweet):\n",
    "    tweet = ''.join(c for c in tweet if c not in string. punctuation) #Removing special characters\n",
    "    tweet = re.sub(r'\\d+', '', tweet)  #Removing digits\n",
    "    tweet = re.sub('((www\\S+)|(http\\S+))', '', tweet) #Removing urls\n",
    "    tweet = tweet.lower().strip()  #Convering to lower case\n",
    "    return tweet"
   ]
  },
  {
   "cell_type": "markdown",
   "metadata": {},
   "source": [
    "_Setting up stopwords:_ Stop words are words that don’t convey any sentiment or feeling. Example: at, and, the"
   ]
  },
  {
   "cell_type": "code",
   "execution_count": 63,
   "metadata": {},
   "outputs": [],
   "source": [
    "stop_words = nltk.corpus.stopwords.words(\"english\")\n",
    "stop_words = [''.join(c for c in s if c not in string.punctuation) for s in stop_words]\n",
    "stop_words = [t.encode('utf-8') for t in stop_words]"
   ]
  },
  {
   "cell_type": "markdown",
   "metadata": {},
   "source": [
    "Defining a function to remove stopwords. This function splits the tweets into individual words and removes stop words"
   ]
  },
  {
   "cell_type": "code",
   "execution_count": 64,
   "metadata": {},
   "outputs": [],
   "source": [
    "def remove_sw(tweet, stop_words):\n",
    "    text = tweet.split()\n",
    "    text = ' '.join(word for word in text if word not in stop_words)\n",
    "    return text"
   ]
  },
  {
   "cell_type": "markdown",
   "metadata": {},
   "source": [
    "_Processing Tweets:_"
   ]
  },
  {
   "cell_type": "code",
   "execution_count": 65,
   "metadata": {},
   "outputs": [],
   "source": [
    "processed_tweets = []\n",
    "for tweet in dataset['text']:\n",
    "    cleaned = tweet_clean(tweet)\n",
    "    stopwords_removed = remove_sw(cleaned, stop_words)\n",
    "    processed_tweets.append(stopwords_removed)\n",
    "\n",
    "dataset['text'] = processed_tweets"
   ]
  },
  {
   "cell_type": "markdown",
   "metadata": {},
   "source": [
    "_Creating train and test datasets (80%-20%):_"
   ]
  },
  {
   "cell_type": "code",
   "execution_count": 66,
   "metadata": {},
   "outputs": [
    {
     "name": "stdout",
     "output_type": "stream",
     "text": [
      "X_train tweets shape: (5671,)\n",
      "X_test tweets shape: (1418,)\n",
      "Y_train tweets shape: (5671,)\n",
      "Y_test tweets shape: (1418,)\n"
     ]
    }
   ],
   "source": [
    "X_train, X_test, Y_train, Y_test = train_test_split(\n",
    "    dataset['text'], dataset['airline_sentiment'], test_size=0.2\n",
    ")\n",
    "\n",
    "print(f'X_train tweets shape: {X_train.shape}')\n",
    "print(f'X_test tweets shape: {X_test.shape}')\n",
    "print(f'Y_train tweets shape: {Y_train.shape}')\n",
    "print(f'Y_test tweets shape: {Y_test.shape}')"
   ]
  },
  {
   "cell_type": "code",
   "execution_count": 67,
   "metadata": {},
   "outputs": [],
   "source": [
    "data_train = pd.DataFrame()\n",
    "data_train['text'] = X_train\n",
    "data_train['airline_sentiment'] = Y_train\n",
    "data_train = data_train.reset_index(drop=True)\n",
    "\n",
    "data_test = pd.DataFrame()\n",
    "data_test['text'] = X_test\n",
    "data_test['airline_sentiment'] = Y_test\n",
    "data_test = data_test.reset_index(drop=True)"
   ]
  },
  {
   "cell_type": "markdown",
   "metadata": {},
   "source": [
    "**Training Naive Bayes Classifier:**"
   ]
  },
  {
   "cell_type": "code",
   "execution_count": 68,
   "metadata": {},
   "outputs": [],
   "source": [
    "class NaiveBayesClassifier(object):\n",
    "    def __init__(self, data_train):\n",
    "        self.data_train = data_train\n",
    "        self.dataset_positive = data_train.copy()[data_train.airline_sentiment == 'positive']\n",
    "        self.dataset_negative = data_train.copy()[data_train.airline_sentiment == 'negative']\n",
    "        self.dataset_neutral = data_train.copy()[data_train.airline_sentiment == 'neutral']\n",
    "    def fit(self):\n",
    "        Pr_pos = dataset_positive.shape[0]/self.data_train.shape[0]\n",
    "        Pr_neg = dataset_negative.shape[0]/self.data_train.shape[0]\n",
    "        Pr_neu = dataset_neutral.shape[0]/self.data_train.shape[0]\n",
    "        self.Prior  = (Pr_pos, Pr_neg, Pr_neu)\n",
    "        self.pos_words = ' '.join(self.dataset_positive['text'].tolist()).split()\n",
    "        self.neg_words = ' '.join(self.dataset_negative['text'].tolist()).split()\n",
    "        self.neu_words = ' '.join(self.dataset_neutral['text'].tolist()).split()\n",
    "        words_list = ' '.join(self.data_train['text'].tolist()).split()\n",
    "        self.vocab = len(Counter(words_list))\n",
    "        wc_pos = len(' '.join(self.dataset_positive['text'].tolist()).split())\n",
    "        wc_neg = len(' '.join(self.dataset_negative['text'].tolist()).split())\n",
    "        wc_neu = len(' '.join(self.dataset_neutral['text'].tolist()).split())\n",
    "        self.word_count = (wc_pos, wc_neg, wc_neu)\n",
    "        return self\n",
    "    def predict(self, data_test):\n",
    "        category = ['positive', 'negative', 'neutral']\n",
    "        classification = []\n",
    "        for tweet in data_test['text']:\n",
    "            text = tweet.split()\n",
    "            val_pos = numpy.array([])\n",
    "            val_neg = numpy.array([])\n",
    "            val_neu = numpy.array([])\n",
    "            for word in text:\n",
    "                tmp_pos = numpy.log((self.pos_words.count(word)+1)/(self.word_count[0]+self.vocab))\n",
    "                tmp_neg = numpy.log((self.neg_words.count(word)+1)/(self.word_count[1]+self.vocab))\n",
    "                tmp_neu = numpy.log((self.neu_words.count(word)+1)/(self.word_count[2]+self.vocab))\n",
    "                val_pos = numpy.append(val_pos, tmp_pos)\n",
    "                val_neg = numpy.append(val_neg, tmp_neg)\n",
    "                val_neu = numpy.append(val_neu, tmp_neu)\n",
    "            val_pos = numpy.log(self.Prior[0]) + numpy.sum(val_pos)\n",
    "            val_neg = numpy.log(self.Prior[1]) + numpy.sum(val_neg)\n",
    "            val_neu = numpy.log(self.Prior[2]) + numpy.sum(val_neu)\n",
    "            probability = (val_pos, val_neg, val_neu)\n",
    "            classification.append(category[numpy.argmax(probability)])\n",
    "        return classification\n",
    "    def score(self, feature, target):\n",
    "        compare = []\n",
    "        for i in range(0,len(feature)):\n",
    "            if feature[i] == target[i]:\n",
    "                tmp ='correct'\n",
    "                compare.append(tmp)\n",
    "            else:\n",
    "                tmp ='incorrect'\n",
    "                compare.append(tmp)\n",
    "        r = Counter(compare)\n",
    "        accuracy = r['correct']/(r['correct']+r['incorrect'])\n",
    "        return accuracy\n",
    "\n",
    "def plot_confusion_matrix(cm, classes, title='Confusion matrix', cmap=plt.cm.Blues):\n",
    "    cm = cm.astype('float') / cm.sum(axis=1)[:, numpy.newaxis]\n",
    "    print(cm)\n",
    "    plt.imshow(cm, interpolation='nearest', cmap=cmap)\n",
    "    plt.title(title)\n",
    "    plt.colorbar()\n",
    "    tick_marks = numpy.arange(len(classes))\n",
    "    plt.xticks(tick_marks, classes, rotation=45)\n",
    "    plt.yticks(tick_marks, classes)\n",
    "    fmt = '.2f'\n",
    "    thresh = cm.max() / 2.\n",
    "    for i, j in itertools.product(range(cm.shape[0]), range(cm.shape[1])):\n",
    "        plt.text(j, i, format(cm[i, j], fmt), horizontalalignment=\"center\", color=\"white\" if cm[i, j] > thresh else \"black\")\n",
    "    plt.ylabel('True')\n",
    "    plt.xlabel('Predicted')\n",
    "    plt.tight_layout()\n",
    "    plt.show()"
   ]
  },
  {
   "cell_type": "markdown",
   "metadata": {},
   "source": [
    "_Running the classifier (accuracy = 78%)_"
   ]
  },
  {
   "cell_type": "code",
   "execution_count": 69,
   "metadata": {},
   "outputs": [
    {
     "name": "stdout",
     "output_type": "stream",
     "text": [
      "Naive Bayes Classifier Score: 0.7827926657263752\n"
     ]
    }
   ],
   "source": [
    "run = NaiveBayesClassifier(data_train)\n",
    "run = run.fit()\n",
    "predict = run.predict(data_test)\n",
    "score = run.score(predict,data_test.airline_sentiment.tolist())\n",
    "print(f'Naive Bayes Classifier Score: {score}')"
   ]
  },
  {
   "cell_type": "markdown",
   "metadata": {},
   "source": [
    "_Confusion Matrix:_"
   ]
  },
  {
   "cell_type": "code",
   "execution_count": 70,
   "metadata": {},
   "outputs": [
    {
     "name": "stdout",
     "output_type": "stream",
     "text": [
      "[[0.78870674 0.14025501 0.07103825]\n",
      " [0.07142857 0.76785714 0.16071429]\n",
      " [0.03773585 0.17400419 0.78825996]]\n"
     ]
    },
    {
     "data": {
      "image/png": "[encoded data removed]",
      "text/plain": [
       "<Figure size 432x288 with 2 Axes>"
      ]
     },
     "metadata": {
      "needs_background": "light"
     },
     "output_type": "display_data"
    }
   ],
   "source": [
    "class_labels = ['Positive', 'Negative', 'Neutral']\n",
    "cm = confusion_matrix(data_test['airline_sentiment'], predict).T\n",
    "plot_confusion_matrix(cm, classes = class_labels)"
   ]
  },
  {
   "cell_type": "markdown",
   "metadata": {},
   "source": [
    "_Now let's consider only 2 categories - positive and negative_"
   ]
  },
  {
   "cell_type": "code",
   "execution_count": 71,
   "metadata": {},
   "outputs": [],
   "source": [
    "dataset_positive2 = dataset.copy()[dataset.airline_sentiment == 'positive'][:2363]\n",
    "dataset_negative2 = dataset.copy()[dataset.airline_sentiment == 'negative'][:2363]\n",
    "\n",
    "dataset2 = pd.concat(\n",
    "    [dataset_positive2, dataset_negative2],\n",
    "    ignore_index=True\n",
    ").reset_index(drop=True)"
   ]
  },
  {
   "cell_type": "markdown",
   "metadata": {},
   "source": [
    "Processing tweets using functions defined earlier"
   ]
  },
  {
   "cell_type": "code",
   "execution_count": 72,
   "metadata": {},
   "outputs": [],
   "source": [
    "processed_tweets2 = []\n",
    "for tweet in dataset2['text']:\n",
    "    cleaned = tweet_clean(tweet)\n",
    "    stopwords_removed = remove_sw(cleaned, stop_words)\n",
    "    processed_tweets2.append(stopwords_removed)\n",
    "\n",
    "dataset2['text'] = processed_tweets2"
   ]
  },
  {
   "cell_type": "markdown",
   "metadata": {},
   "source": [
    "_Creating train and test datasets (80%-20%)_"
   ]
  },
  {
   "cell_type": "code",
   "execution_count": 73,
   "metadata": {},
   "outputs": [
    {
     "name": "stdout",
     "output_type": "stream",
     "text": [
      "X_train2 tweets shape: (3780,)\n",
      "X_test2 tweets shape: (946,)\n",
      "Y_train2 tweets shape: (3780,)\n",
      "Y_test2 tweets shape: (946,)\n"
     ]
    }
   ],
   "source": [
    "X_train2, X_test2, Y_train2, Y_test2 = train_test_split(\n",
    "    dataset2['text'], dataset2['airline_sentiment'], test_size=0.2\n",
    ")\n",
    "\n",
    "print(f'X_train2 tweets shape: {X_train2.shape}')\n",
    "print(f'X_test2 tweets shape: {X_test2.shape}')\n",
    "print(f'Y_train2 tweets shape: {Y_train2.shape}')\n",
    "print(f'Y_test2 tweets shape: {Y_test2.shape}')"
   ]
  },
  {
   "cell_type": "code",
   "execution_count": 74,
   "metadata": {},
   "outputs": [],
   "source": [
    "data_train2 = pd.DataFrame()\n",
    "data_train2['text'] = X_train2\n",
    "data_train2['airline_sentiment'] = Y_train2\n",
    "data_train2 = data_train2.reset_index(drop=True)\n",
    "\n",
    "data_test2 = pd.DataFrame()\n",
    "data_test2['text'] = X_test2\n",
    "data_test2['airline_sentiment'] = Y_test2\n",
    "data_test2 = data_test2.reset_index(drop=True)"
   ]
  },
  {
   "cell_type": "markdown",
   "metadata": {},
   "source": [
    "_Running the classifier again (accuracy = 92%)_"
   ]
  },
  {
   "cell_type": "code",
   "execution_count": 75,
   "metadata": {},
   "outputs": [
    {
     "name": "stdout",
     "output_type": "stream",
     "text": [
      "Naive Bayes Classifier Score2: 0.927061310782241\n"
     ]
    }
   ],
   "source": [
    "run2 = NaiveBayesClassifier(data_train2)\n",
    "run2 = run2.fit()\n",
    "predict2 = run2.predict(data_test2)\n",
    "score2 = run2.score(predict2,data_test2.airline_sentiment.tolist())\n",
    "print(f'Naive Bayes Classifier Score2: {score2}')"
   ]
  },
  {
   "cell_type": "markdown",
   "metadata": {},
   "source": [
    "_Creating the confusion matrix_"
   ]
  },
  {
   "cell_type": "code",
   "execution_count": 76,
   "metadata": {},
   "outputs": [
    {
     "name": "stdout",
     "output_type": "stream",
     "text": [
      "[[0.90118577 0.         0.09881423]\n",
      " [0.         0.         1.        ]\n",
      " [0.04100228 0.         0.95899772]]\n"
     ]
    },
    {
     "data": {
      "image/png": "[encoded data removed]",
      "text/plain": [
       "<Figure size 432x288 with 2 Axes>"
      ]
     },
     "metadata": {
      "needs_background": "light"
     },
     "output_type": "display_data"
    }
   ],
   "source": [
    "class_labels2 = ['Positive', 'Negative']\n",
    "cm2 = confusion_matrix(data_test2['airline_sentiment'], predict2).T\n",
    "plot_confusion_matrix(cm2, classes = class_labels2)"
   ]
  },
  {
   "cell_type": "markdown",
   "metadata": {},
   "source": [
    "# Training Multinomial Naive Bayes\n",
    "\n",
    "The [multinomial Naive Bayes classifier](https://scikit-learn.org/stable/modules/generated/sklearn.naive_bayes.MultinomialNB.html) is suitable for classification with discrete features (e.g., word counts for text classification). The multinomial distribution normally requires integer feature counts. However, in practice, fractional counts such as tf-idf may also work."
   ]
  },
  {
   "cell_type": "code",
   "execution_count": 77,
   "metadata": {},
   "outputs": [],
   "source": [
    "\n",
    "def text_process(text):\n",
    "    '''\n",
    "    Takes in a string of text, then performs the following:\n",
    "    1. Remove all punctuation\n",
    "    2. Remove all stopwords\n",
    "    3. Return the cleaned text as a list of words\n",
    "    '''\n",
    "    nopunc = [char for char in text if char not in string.punctuation]\n",
    "    nopunc = ''.join(nopunc)\n",
    "    \n",
    "    return [word for word in nopunc.split() if word.lower() not in stopwords.words('english')]"
   ]
  },
  {
   "cell_type": "code",
   "execution_count": 78,
   "metadata": {},
   "outputs": [],
   "source": [
    "def vectorize_text(text_array):\n",
    "    transformer = CountVectorizer(analyzer=text_process).fit(text_array)\n",
    "    vectorized_text_array = transformer.transform(text_array)\n",
    "    return vectorized_text_array"
   ]
  },
  {
   "cell_type": "code",
   "execution_count": 79,
   "metadata": {},
   "outputs": [
    {
     "name": "stdout",
     "output_type": "stream",
     "text": [
      "Shape of Sparse Matrix:  (14640, 19717)\n",
      "Amount of Non-Zero occurrences:  150578\n",
      "Density: 0.05216504799747022\n"
     ]
    }
   ],
   "source": [
    "Txt = vectorize_text(tweets_dataset['text'])\n",
    "\n",
    "print('Shape of Sparse Matrix: ', Txt.shape)\n",
    "print('Amount of Non-Zero occurrences: ', Txt.nnz)\n",
    "# Percentage of non-zero values\n",
    "density = (100.0 * Txt.nnz / (Txt.shape[0] * Txt.shape[1]))\n",
    "print('Density: {}'.format((density)))"
   ]
  },
  {
   "cell_type": "code",
   "execution_count": 80,
   "metadata": {},
   "outputs": [
    {
     "name": "stdout",
     "output_type": "stream",
     "text": [
      "[[1722   72   41]\n",
      " [ 342  225   48]\n",
      " [ 196   47  235]]\n",
      "              precision    recall  f1-score   support\n",
      "\n",
      "    negative       0.76      0.94      0.84      1835\n",
      "     neutral       0.65      0.37      0.47       615\n",
      "    positive       0.73      0.49      0.59       478\n",
      "\n",
      "   micro avg       0.75      0.75      0.75      2928\n",
      "   macro avg       0.71      0.60      0.63      2928\n",
      "weighted avg       0.73      0.75      0.72      2928\n",
      "\n"
     ]
    }
   ],
   "source": [
    "sent = tweets_dataset['airline_sentiment']\n",
    "\n",
    "Txt_train, Txt_test, sent_train, sent_test = train_test_split(Txt, sent, test_size=0.2)\n",
    "\n",
    "airline_sent_nb = MultinomialNB()\n",
    "\n",
    "airline_sent_nb.fit(Txt_train, sent_train)\n",
    "\n",
    "airline_sent_preds = airline_sent_nb.predict(Txt_test)\n",
    "\n",
    "mat = confusion_matrix(sent_test, airline_sent_preds)\n",
    "# Confusion Matrix\n",
    "print(mat)\n",
    "# Classification Report\n",
    "print(classification_report(sent_test, airline_sent_preds))"
   ]
  },
  {
   "cell_type": "code",
   "execution_count": 81,
   "metadata": {},
   "outputs": [],
   "source": [
    "# Confusion Matrix Plot\n",
    "# sns.heatmap(mat.T, square=True, annot=True, fmt='d', cbar=False)"
   ]
  }
 ],
 "metadata": {
  "colab": {
   "name": "U.S.AirlineTwitterSentimentAnalysis.ipynb",
   "provenance": [],
   "version": "0.3.2"
  },
  "kernelspec": {
   "display_name": "Python 3",
   "language": "python",
   "name": "python3"
  },
  "language_info": {
   "codemirror_mode": {
    "name": "ipython",
    "version": 3
   },
   "file_extension": ".py",
   "mimetype": "text/x-python",
   "name": "python",
   "nbconvert_exporter": "python",
   "pygments_lexer": "ipython3",
   "version": "3.6.7"
  }
 },
 "nbformat": 4,
 "nbformat_minor": 2
}
