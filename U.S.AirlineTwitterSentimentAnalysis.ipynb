{
 "cells": [
  {
   "cell_type": "markdown",
   "metadata": {
    "colab_type": "text",
    "id": "4cH9G0yAWER9"
   },
   "source": [
    "**Group Members:**\n",
    "\n",
    "* Chandana Vangapalli (ID: 233323)\n",
    "* Yizhou Yu (ID: 236819)\n",
    "* Akpany Aubin Benjamin Ebby (ID: 232836 )\n",
    "* Bangyi Wu (ID: 183398)\n"
   ]
  },
  {
   "cell_type": "markdown",
   "metadata": {
    "colab_type": "text",
    "id": "6QY4Qsd6WX61"
   },
   "source": [
    "**Objective:**\n",
    "\n",
    "The primary objective of our project is to apply sentiment analysis to the US airline industry twitter data to understand the trends in customer perceptions about some of the biggest airline companies in the USA. Further, we will also investigate what factors drive positive and negative sentiments and how this would impact the overall industry.  \n"
   ]
  },
  {
   "cell_type": "markdown",
   "metadata": {
    "colab_type": "text",
    "id": "Ii6-AXBzWdY2"
   },
   "source": [
    "**Data:**\n",
    "\n",
    "We will use airline industry tweets for our analysis. Alternatively, we may use twitter datasets sourced from Kaggle.\n"
   ]
  },
  {
   "cell_type": "code",
   "execution_count": null,
   "metadata": {
    "colab": {},
    "colab_type": "code",
    "id": "E9crwZJOWjUh"
   },
   "outputs": [],
   "source": []
  }
 ],
 "metadata": {
  "colab": {
   "name": "U.S.AirlineTwitterSentimentAnalysis.ipynb",
   "provenance": [],
   "version": "0.3.2"
  },
  "kernelspec": {
   "display_name": "Python 3",
   "language": "python",
   "name": "python3"
  },
  "language_info": {
   "codemirror_mode": {
    "name": "ipython",
    "version": 3
   },
   "file_extension": ".py",
   "mimetype": "text/x-python",
   "name": "python",
   "nbconvert_exporter": "python",
   "pygments_lexer": "ipython3",
   "version": "3.6.7"
  }
 },
 "nbformat": 4,
 "nbformat_minor": 2
}
