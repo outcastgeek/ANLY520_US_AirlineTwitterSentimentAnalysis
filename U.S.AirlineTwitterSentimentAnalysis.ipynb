{
 "cells": [
  {
   "cell_type": "markdown",
   "metadata": {
    "colab_type": "text",
    "id": "4cH9G0yAWER9"
   },
   "source": [
    "**Group Members:**\n",
    "\n",
    "* Chandana Vangapalli (ID: 233323)\n",
    "* Yizhou Yu (ID: 236819)\n",
    "* Akpany Aubin Benjamin Ebby (ID: 232836 )\n",
    "* Bangyi Wu (ID: 183398)\n"
   ]
  },
  {
   "cell_type": "markdown",
   "metadata": {
    "colab_type": "text",
    "id": "6QY4Qsd6WX61"
   },
   "source": [
    "**Objective:**\n",
    "\n",
    "The primary objective of our project is to apply sentiment analysis to the US airline industry twitter data to understand the trends in customer perceptions about some of the biggest airline companies in the USA. Further, we will also investigate what factors drive positive and negative sentiments and how this would impact the overall industry.  \n"
   ]
  },
  {
   "cell_type": "markdown",
   "metadata": {
    "colab_type": "text",
    "id": "Ii6-AXBzWdY2"
   },
   "source": [
    "**Data:**\n",
    "\n",
    "We will use airline industry tweets for our analysis. Alternatively, we may use twitter datasets sourced from Kaggle.\n"
   ]
  },
  {
   "cell_type": "code",
   "execution_count": 24,
   "metadata": {},
   "outputs": [
    {
     "name": "stdout",
     "output_type": "stream",
     "text": [
      "The rpy2.ipython extension is already loaded. To reload it, use:\n",
      "  %reload_ext rpy2.ipython\n"
     ]
    }
   ],
   "source": [
    "%load_ext rpy2.ipython\n",
    "import warnings\n",
    "warnings.filterwarnings('ignore')"
   ]
  },
  {
   "cell_type": "code",
   "execution_count": 49,
   "metadata": {
    "colab": {},
    "colab_type": "code",
    "id": "E9crwZJOWjUh"
   },
   "outputs": [],
   "source": [
    "import itertools\n",
    "\n",
    "import numpy\n",
    "import pandas as pd\n",
    "\n",
    "from sklearn.model_selection import train_test_split\n",
    "from sklearn.metrics import confusion_matrix\n",
    "\n",
    "import nltk\n",
    "from nltk.tree import *\n",
    "\n",
    "import matplotlib.pyplot as plt\n",
    "\n",
    "import re\n",
    "import string\n",
    "\n",
    "from collections import Counter"
   ]
  },
  {
   "cell_type": "code",
   "execution_count": 26,
   "metadata": {},
   "outputs": [],
   "source": [
    "%%R\n",
    "library(dplyr)\n",
    "library(reticulate)\n",
    "library(ggplot2)\n",
    "library(rtweet)"
   ]
  },
  {
   "cell_type": "markdown",
   "metadata": {},
   "source": [
    "# U.S. Airline Twitter"
   ]
  },
  {
   "cell_type": "markdown",
   "metadata": {},
   "source": [
    "**Load the Data**"
   ]
  },
  {
   "cell_type": "code",
   "execution_count": 27,
   "metadata": {},
   "outputs": [
    {
     "name": "stdout",
     "output_type": "stream",
     "text": [
      "[nltk_data] Downloading package stopwords to /home/gitpod/nltk_data...\n",
      "[nltk_data]   Package stopwords is already up-to-date!\n"
     ]
    }
   ],
   "source": [
    "nltk.download(\"stopwords\") # Load StopWords\n",
    "tweets_dataset = pd.read_csv(\"data/US_Airline_Tweets.csv\") # Load Data\n",
    "\n",
    "# %Rpush tweets_dataset"
   ]
  },
  {
   "cell_type": "code",
   "execution_count": 28,
   "metadata": {},
   "outputs": [],
   "source": [
    "%%R\n",
    "\n",
    "tweets_df <- read.csv(\"data/US_Airline_Tweets.csv\", encoding = \"UTF-8\", header=TRUE, stringsAsFactors=FALSE)"
   ]
  },
  {
   "cell_type": "markdown",
   "metadata": {},
   "source": [
    "**Data Exploration**"
   ]
  },
  {
   "cell_type": "markdown",
   "metadata": {},
   "source": [
    "_Data Columns:_"
   ]
  },
  {
   "cell_type": "code",
   "execution_count": 29,
   "metadata": {},
   "outputs": [
    {
     "data": {
      "text/plain": [
       " [1] \"tweet_id\"                     \"airline_sentiment\"           \n",
       " [3] \"airline_sentiment_confidence\" \"negativereason\"              \n",
       " [5] \"negativereason_confidence\"    \"airline\"                     \n",
       " [7] \"airline_sentiment_gold\"       \"name\"                        \n",
       " [9] \"negativereason_gold\"          \"retweet_count\"               \n",
       "[11] \"text\"                         \"tweet_coord\"                 \n",
       "[13] \"tweet_created\"                \"tweet_location\"              \n",
       "[15] \"user_timezone\"               \n"
      ]
     },
     "metadata": {},
     "output_type": "display_data"
    }
   ],
   "source": [
    "%%R\n",
    "tweets_df %>% colnames() # Columns"
   ]
  },
  {
   "cell_type": "markdown",
   "metadata": {},
   "source": [
    "_Data Dimention / Shape:_"
   ]
  },
  {
   "cell_type": "code",
   "execution_count": 30,
   "metadata": {},
   "outputs": [
    {
     "data": {
      "text/plain": [
       "[1] 14640    15\n"
      ]
     },
     "metadata": {},
     "output_type": "display_data"
    }
   ],
   "source": [
    "%%R\n",
    "tweets_df %>% dim() # Shape / Dimension"
   ]
  },
  {
   "cell_type": "markdown",
   "metadata": {},
   "source": [
    "_Data Summary:_"
   ]
  },
  {
   "cell_type": "code",
   "execution_count": 31,
   "metadata": {},
   "outputs": [
    {
     "data": {
      "text/plain": [
       "    tweet_id         airline_sentiment  airline_sentiment_confidence\n",
       " Min.   :5.676e+17   Length:14640       Min.   :0.3350              \n",
       " 1st Qu.:5.686e+17   Class :character   1st Qu.:0.6923              \n",
       " Median :5.695e+17   Mode  :character   Median :1.0000              \n",
       " Mean   :5.692e+17                      Mean   :0.9002              \n",
       " 3rd Qu.:5.699e+17                      3rd Qu.:1.0000              \n",
       " Max.   :5.703e+17                      Max.   :1.0000              \n",
       "                                                                    \n",
       " negativereason     negativereason_confidence   airline         \n",
       " Length:14640       Min.   :0.000             Length:14640      \n",
       " Class :character   1st Qu.:0.361             Class :character  \n",
       " Mode  :character   Median :0.671             Mode  :character  \n",
       "                    Mean   :0.638                               \n",
       "                    3rd Qu.:1.000                               \n",
       "                    Max.   :1.000                               \n",
       "                    NA's   :4118                                \n",
       " airline_sentiment_gold     name           negativereason_gold\n",
       " Length:14640           Length:14640       Length:14640       \n",
       " Class :character       Class :character   Class :character   \n",
       " Mode  :character       Mode  :character   Mode  :character   \n",
       "                                                              \n",
       "                                                              \n",
       "                                                              \n",
       "                                                              \n",
       " retweet_count          text           tweet_coord        tweet_created     \n",
       " Min.   : 0.00000   Length:14640       Length:14640       Length:14640      \n",
       " 1st Qu.: 0.00000   Class :character   Class :character   Class :character  \n",
       " Median : 0.00000   Mode  :character   Mode  :character   Mode  :character  \n",
       " Mean   : 0.08265                                                           \n",
       " 3rd Qu.: 0.00000                                                           \n",
       " Max.   :44.00000                                                           \n",
       "                                                                            \n",
       " tweet_location     user_timezone     \n",
       " Length:14640       Length:14640      \n",
       " Class :character   Class :character  \n",
       " Mode  :character   Mode  :character  \n",
       "                                      \n",
       "                                      \n",
       "                                      \n",
       "                                      \n"
      ]
     },
     "metadata": {},
     "output_type": "display_data"
    }
   ],
   "source": [
    "%%R\n",
    "tweets_df %>% summary() # Data Summary"
   ]
  },
  {
   "cell_type": "markdown",
   "metadata": {},
   "source": [
    "_positive, negative, and neutral tweets shapes:_"
   ]
  },
  {
   "cell_type": "code",
   "execution_count": 32,
   "metadata": {},
   "outputs": [
    {
     "name": "stdout",
     "output_type": "stream",
     "text": [
      "positive tweets shape: (14640,)\n",
      "negative tweets shape: (14640,)\n",
      "neutral tweets shape: (14640,)\n"
     ]
    }
   ],
   "source": [
    "positive_tweets = tweets_dataset['airline_sentiment'].str.contains(\"positive\")\n",
    "negative_tweets = tweets_dataset['airline_sentiment'].str.contains(\"negative\")\n",
    "neutral_tweets = tweets_dataset['airline_sentiment'].str.contains(\"neutral\")\n",
    "\n",
    "\n",
    "print(f'positive tweets shape: {positive_tweets.shape}')\n",
    "print(f'negative tweets shape: {negative_tweets.shape}')\n",
    "print(f'neutral tweets shape: {neutral_tweets.shape}')"
   ]
  },
  {
   "cell_type": "markdown",
   "metadata": {},
   "source": [
    "_airlines tweets shapes:_"
   ]
  },
  {
   "cell_type": "code",
   "execution_count": 33,
   "metadata": {},
   "outputs": [
    {
     "name": "stdout",
     "output_type": "stream",
     "text": [
      "American Tweets Shape: (14640,)\n",
      "Delta Tweets Shape: (14640,)\n",
      "Southwest Tweets Shape: (14640,)\n",
      "United Tweets Shape: (14640,)\n",
      "VAmerica Tweets Shape: (14640,)\n",
      "USair Tweets Shape: (14640,)\n"
     ]
    }
   ],
   "source": [
    "American = tweets_dataset['airline'].str.contains(\"American\")\n",
    "Delta = tweets_dataset['airline'].str.contains(\"Delta\")\n",
    "Southwest = tweets_dataset['airline'].str.contains(\"Southwest\")\n",
    "United = tweets_dataset['airline'].str.contains(\"United\")\n",
    "VAmerica = tweets_dataset['airline'].str.contains(\"Virgin America\")\n",
    "USair = tweets_dataset['airline'].str.contains(\"US Airways\")\n",
    "\n",
    "print(f'American Tweets Shape: {American.shape}')\n",
    "print(f'Delta Tweets Shape: {Delta.shape}')\n",
    "print(f'Southwest Tweets Shape: {Southwest.shape}')\n",
    "print(f'United Tweets Shape: {United.shape}')\n",
    "print(f'VAmerica Tweets Shape: {VAmerica.shape}')\n",
    "print(f'USair Tweets Shape: {USair.shape}')"
   ]
  },
  {
   "cell_type": "code",
   "execution_count": 34,
   "metadata": {},
   "outputs": [
    {
     "data": {
      "image/png": "[encoded data removed]"
     },
     "metadata": {},
     "output_type": "display_data"
    }
   ],
   "source": [
    "%%R\n",
    "tweets_sentiment_groups_df <- tweets_df %>%\n",
    "    group_by(airline_sentiment) %>%\n",
    "    rowwise() %>%\n",
    "    mutate(SENTIMENT_COUNT = n()) %>%\n",
    "    select(airline, airline_sentiment, SENTIMENT_COUNT)\n",
    "\n",
    "# tweets_sentiment_groups_df %>% head()\n",
    "    \n",
    "ggplot(tweets_sentiment_groups_df, aes(x = airline, y = SENTIMENT_COUNT, fill=airline_sentiment)) +\n",
    "  geom_bar(stat=\"identity\") +\n",
    "  coord_flip() +\n",
    "  scale_y_continuous(name=\"Sentiment Tallies\", labels = scales::comma) +\n",
    "  ggtitle(\"Airline Sentiment Type Counts\")"
   ]
  },
  {
   "cell_type": "markdown",
   "metadata": {},
   "source": [
    "**Train Test Split**"
   ]
  },
  {
   "cell_type": "code",
   "execution_count": 35,
   "metadata": {},
   "outputs": [
    {
     "name": "stdout",
     "output_type": "stream",
     "text": [
      "tweets_dataset_train tweets shape: (11712, 15)\n",
      "tweets_dataset_test tweets shape: (2928, 15)\n"
     ]
    }
   ],
   "source": [
    "tweets_dataset_train, tweets_dataset_test = train_test_split(\n",
    "    tweets_dataset, test_size=0.2\n",
    ")\n",
    "\n",
    "print(f'tweets_dataset_train tweets shape: {tweets_dataset_train.shape}')\n",
    "print(f'tweets_dataset_test tweets shape: {tweets_dataset_test.shape}')"
   ]
  },
  {
   "cell_type": "markdown",
   "metadata": {},
   "source": [
    "**Pre-Processing Data**"
   ]
  },
  {
   "cell_type": "code",
   "execution_count": 36,
   "metadata": {},
   "outputs": [],
   "source": [
    "dataset = tweets_dataset.copy()[['airline_sentiment', 'text']]"
   ]
  },
  {
   "cell_type": "markdown",
   "metadata": {},
   "source": [
    "_Dividing dataset into 3 categories by sentiment (might not be needed):_"
   ]
  },
  {
   "cell_type": "code",
   "execution_count": 37,
   "metadata": {},
   "outputs": [],
   "source": [
    "positive = dataset['airline_sentiment'].str.contains(\"positive\")\n",
    "negative = dataset['airline_sentiment'].str.contains(\"negative\")\n",
    "neutral = dataset['airline_sentiment'].str.contains(\"neutral\")"
   ]
  },
  {
   "cell_type": "markdown",
   "metadata": {},
   "source": [
    "If the categories have different number of tweets the classifier could learn to guess the most prevalent category, skewing the results, so, we balance the number of tweets in each category"
   ]
  },
  {
   "cell_type": "markdown",
   "metadata": {},
   "source": [
    "_We are going for 3 categories - positive, negative and neutral:_"
   ]
  },
  {
   "cell_type": "code",
   "execution_count": 38,
   "metadata": {},
   "outputs": [],
   "source": [
    "dataset_positive = dataset.copy()[dataset.airline_sentiment == 'positive'][:2363]\n",
    "dataset_negative = dataset.copy()[dataset.airline_sentiment == 'negative'][:2363]\n",
    "dataset_neutral = dataset.copy()[dataset.airline_sentiment == 'neutral'][:2363]\n",
    "\n",
    "dataset = pd.concat(\n",
    "    [dataset_positive, dataset_negative, dataset_neutral],\n",
    "    ignore_index=True\n",
    ").reset_index(drop=True)"
   ]
  },
  {
   "cell_type": "markdown",
   "metadata": {},
   "source": [
    "Defining a function to process tweets for analysis\n",
    "Tweets contain several forms of punctuation, capitalizations, url links, etc.\n",
    "They need to be cleaned prior to analysis"
   ]
  },
  {
   "cell_type": "code",
   "execution_count": 39,
   "metadata": {},
   "outputs": [],
   "source": [
    "def tweet_clean(tweet):\n",
    "    tweet = ''.join(c for c in tweet if c not in string. punctuation) #Removing special characters\n",
    "    tweet = re.sub(r'\\d+', '', tweet)  #Removing digits\n",
    "    tweet = re.sub('((www\\S+)|(http\\S+))', '', tweet) #Removing urls\n",
    "    tweet = tweet.lower().strip()  #Convering to lower case\n",
    "    return tweet"
   ]
  },
  {
   "cell_type": "markdown",
   "metadata": {},
   "source": [
    "_Setting up stopwords:_ Stop words are words that don’t convey any sentiment or feeling. Example: at, and, the"
   ]
  },
  {
   "cell_type": "code",
   "execution_count": 40,
   "metadata": {},
   "outputs": [],
   "source": [
    "stop_words = nltk.corpus.stopwords.words(\"english\")\n",
    "stop_words = [''.join(c for c in s if c not in string.punctuation) for s in stop_words]\n",
    "stop_words = [t.encode('utf-8') for t in stop_words]"
   ]
  },
  {
   "cell_type": "markdown",
   "metadata": {},
   "source": [
    "Defining a function to remove stopwords. This function splits the tweets into individual words and removes stop words"
   ]
  },
  {
   "cell_type": "code",
   "execution_count": 41,
   "metadata": {},
   "outputs": [],
   "source": [
    "def remove_sw(tweet, stop_words):\n",
    "    text = tweet.split()\n",
    "    text = ' '.join(word for word in text if word not in stop_words)\n",
    "    return text"
   ]
  },
  {
   "cell_type": "markdown",
   "metadata": {},
   "source": [
    "_Processing Tweets:_"
   ]
  },
  {
   "cell_type": "code",
   "execution_count": 42,
   "metadata": {},
   "outputs": [],
   "source": [
    "processed_tweets = []\n",
    "for tweet in dataset['text']:\n",
    "    cleaned = tweet_clean(tweet)\n",
    "    stopwords_removed = remove_sw(cleaned, stop_words)\n",
    "    processed_tweets.append(stopwords_removed)\n",
    "\n",
    "dataset['text'] = processed_tweets"
   ]
  },
  {
   "cell_type": "markdown",
   "metadata": {},
   "source": [
    "_Creating train and test datasets (80%-20%):_"
   ]
  },
  {
   "cell_type": "code",
   "execution_count": 43,
   "metadata": {},
   "outputs": [
    {
     "name": "stdout",
     "output_type": "stream",
     "text": [
      "X_train tweets shape: (5671,)\n",
      "X_test tweets shape: (1418,)\n",
      "Y_train tweets shape: (5671,)\n",
      "Y_test tweets shape: (1418,)\n"
     ]
    }
   ],
   "source": [
    "X_train, X_test, Y_train, Y_test = train_test_split(\n",
    "    dataset['text'], dataset['airline_sentiment'], test_size=0.2\n",
    ")\n",
    "\n",
    "print(f'X_train tweets shape: {X_train.shape}')\n",
    "print(f'X_test tweets shape: {X_test.shape}')\n",
    "print(f'Y_train tweets shape: {Y_train.shape}')\n",
    "print(f'Y_test tweets shape: {Y_test.shape}')"
   ]
  },
  {
   "cell_type": "code",
   "execution_count": 44,
   "metadata": {},
   "outputs": [],
   "source": [
    "data_train = pd.DataFrame()\n",
    "data_train['text'] = X_train\n",
    "data_train['airline_sentiment'] = Y_train\n",
    "data_train = data_train.reset_index(drop=True)\n",
    "\n",
    "data_test = pd.DataFrame()\n",
    "data_test['text'] = X_test\n",
    "data_test['airline_sentiment'] = Y_test\n",
    "data_test = data_test.reset_index(drop=True)"
   ]
  },
  {
   "cell_type": "markdown",
   "metadata": {},
   "source": [
    "**Training Naive Bayes Classifier:**"
   ]
  },
  {
   "cell_type": "code",
   "execution_count": 50,
   "metadata": {},
   "outputs": [],
   "source": [
    "class NaiveBayesClassifier(object):\n",
    "    def __init__(self, data_train):\n",
    "        self.data_train = data_train\n",
    "        self.dataset_positive = data_train.copy()[data_train.airline_sentiment == 'positive']\n",
    "        self.dataset_negative = data_train.copy()[data_train.airline_sentiment == 'negative']\n",
    "        self.dataset_neutral = data_train.copy()[data_train.airline_sentiment == 'neutral']\n",
    "    def fit(self):\n",
    "        Pr_pos = dataset_positive.shape[0]/self.data_train.shape[0]\n",
    "        Pr_neg = dataset_negative.shape[0]/self.data_train.shape[0]\n",
    "        Pr_neu = dataset_neutral.shape[0]/self.data_train.shape[0]\n",
    "        self.Prior  = (Pr_pos, Pr_neg, Pr_neu)\n",
    "        self.pos_words = ' '.join(self.dataset_positive['text'].tolist()).split()\n",
    "        self.neg_words = ' '.join(self.dataset_negative['text'].tolist()).split()\n",
    "        self.neu_words = ' '.join(self.dataset_neutral['text'].tolist()).split()\n",
    "        words_list = ' '.join(self.data_train['text'].tolist()).split()\n",
    "        self.vocab = len(Counter(words_list))\n",
    "        wc_pos = len(' '.join(self.dataset_positive['text'].tolist()).split())\n",
    "        wc_neg = len(' '.join(self.dataset_negative['text'].tolist()).split())\n",
    "        wc_neu = len(' '.join(self.dataset_neutral['text'].tolist()).split())\n",
    "        self.word_count = (wc_pos, wc_neg, wc_neu)\n",
    "        return self\n",
    "    def predict(self, data_test):\n",
    "        category = ['positive', 'negative', 'neutral']\n",
    "        classification = []\n",
    "        for tweet in data_test['text']:\n",
    "            text = tweet.split()\n",
    "            val_pos = numpy.array([])\n",
    "            val_neg = numpy.array([])\n",
    "            val_neu = numpy.array([])\n",
    "            for word in text:\n",
    "                tmp_pos = numpy.log((self.pos_words.count(word)+1)/(self.word_count[0]+self.vocab))\n",
    "                tmp_neg = numpy.log((self.neg_words.count(word)+1)/(self.word_count[1]+self.vocab))\n",
    "                tmp_neu = numpy.log((self.neu_words.count(word)+1)/(self.word_count[2]+self.vocab))\n",
    "                val_pos = numpy.append(val_pos, tmp_pos)\n",
    "                val_neg = numpy.append(val_neg, tmp_neg)\n",
    "                val_neu = numpy.append(val_neu, tmp_neu)\n",
    "            val_pos = numpy.log(self.Prior[0]) + numpy.sum(val_pos)\n",
    "            val_neg = numpy.log(self.Prior[1]) + numpy.sum(val_neg)\n",
    "            val_neu = numpy.log(self.Prior[2]) + numpy.sum(val_neu)\n",
    "            probability = (val_pos, val_neg, val_neu)\n",
    "            classification.append(category[numpy.argmax(probability)])\n",
    "        return classification\n",
    "    def score(self, feature, target):\n",
    "        compare = []\n",
    "        for i in range(0,len(feature)):\n",
    "            if feature[i] == target[i]:\n",
    "                tmp ='correct'\n",
    "                compare.append(tmp)\n",
    "            else:\n",
    "                tmp ='incorrect'\n",
    "                compare.append(tmp)\n",
    "        r = Counter(compare)\n",
    "        accuracy = r['correct']/(r['correct']+r['incorrect'])\n",
    "        return accuracy\n",
    "\n",
    "def plot_confusion_matrix(cm, classes, title='Confusion matrix', cmap=plt.cm.Blues):\n",
    "    cm = cm.astype('float') / cm.sum(axis=1)[:, numpy.newaxis]\n",
    "    print(cm)\n",
    "    plt.imshow(cm, interpolation='nearest', cmap=cmap)\n",
    "    plt.title(title)\n",
    "    plt.colorbar()\n",
    "    tick_marks = numpy.arange(len(classes))\n",
    "    plt.xticks(tick_marks, classes, rotation=45)\n",
    "    plt.yticks(tick_marks, classes)\n",
    "    fmt = '.2f'\n",
    "    thresh = cm.max() / 2.\n",
    "    for i, j in itertools.product(range(cm.shape[0]), range(cm.shape[1])):\n",
    "        plt.text(j, i, format(cm[i, j], fmt), horizontalalignment=\"center\", color=\"white\" if cm[i, j] > thresh else \"black\")\n",
    "    plt.ylabel('True')\n",
    "    plt.xlabel('Predicted')\n",
    "    plt.tight_layout()\n",
    "    plt.show()"
   ]
  },
  {
   "cell_type": "markdown",
   "metadata": {},
   "source": [
    "_Running the classifier (accuracy = 78%)_"
   ]
  },
  {
   "cell_type": "code",
   "execution_count": 46,
   "metadata": {},
   "outputs": [
    {
     "name": "stdout",
     "output_type": "stream",
     "text": [
      "Naive Bayes Classifier Score: 0.7912552891396333\n"
     ]
    }
   ],
   "source": [
    "run = NaiveBayesClassifier(data_train)\n",
    "run = run.fit()\n",
    "predict = run.predict(data_test)\n",
    "score = run.score(predict,data_test.airline_sentiment.tolist())\n",
    "print(f'Naive Bayes Classifier Score: {score}')"
   ]
  },
  {
   "cell_type": "markdown",
   "metadata": {},
   "source": [
    "_Confusion Matrix:_"
   ]
  },
  {
   "cell_type": "code",
   "execution_count": 51,
   "metadata": {},
   "outputs": [
    {
     "name": "stdout",
     "output_type": "stream",
     "text": [
      "[[0.78091873 0.14134276 0.07773852]\n",
      " [0.08086253 0.8032345  0.11590296]\n",
      " [0.03326403 0.17255717 0.79417879]]\n"
     ]
    },
    {
     "data": {
      "image/png": "[encoded data removed]",
      "text/plain": [
       "<Figure size 432x288 with 2 Axes>"
      ]
     },
     "metadata": {
      "needs_background": "light"
     },
     "output_type": "display_data"
    }
   ],
   "source": [
    "class_labels = ['Positive', 'Negative', 'Neutral']\n",
    "cm = confusion_matrix(data_test['airline_sentiment'], predict).T\n",
    "plot_confusion_matrix(cm, classes = class_labels)"
   ]
  },
  {
   "cell_type": "code",
   "execution_count": null,
   "metadata": {},
   "outputs": [],
   "source": []
  }
 ],
 "metadata": {
  "colab": {
   "name": "U.S.AirlineTwitterSentimentAnalysis.ipynb",
   "provenance": [],
   "version": "0.3.2"
  },
  "kernelspec": {
   "display_name": "Python 3",
   "language": "python",
   "name": "python3"
  },
  "language_info": {
   "codemirror_mode": {
    "name": "ipython",
    "version": 3
   },
   "file_extension": ".py",
   "mimetype": "text/x-python",
   "name": "python",
   "nbconvert_exporter": "python",
   "pygments_lexer": "ipython3",
   "version": "3.6.7"
  }
 },
 "nbformat": 4,
 "nbformat_minor": 2
}
