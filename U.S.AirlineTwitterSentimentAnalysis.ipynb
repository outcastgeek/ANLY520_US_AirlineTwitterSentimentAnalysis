{
 "cells": [
  {
   "cell_type": "markdown",
   "metadata": {
    "colab_type": "text",
    "id": "4cH9G0yAWER9"
   },
   "source": [
    "**Group Members:**\n",
    "\n",
    "* Chandana Vangapalli (ID: 233323)\n",
    "* Yizhou Yu (ID: 236819)\n",
    "* Akpany Aubin Benjamin Ebby (ID: 232836 )\n",
    "* Bangyi Wu (ID: 183398)\n"
   ]
  },
  {
   "cell_type": "markdown",
   "metadata": {
    "colab_type": "text",
    "id": "6QY4Qsd6WX61"
   },
   "source": [
    "**Objective:**\n",
    "\n",
    "The primary objective of our project is to apply sentiment analysis to the US airline industry twitter data to understand the trends in customer perceptions about some of the biggest airline companies in the USA. Further, we will also investigate what factors drive positive and negative sentiments and how this would impact the overall industry.  \n"
   ]
  },
  {
   "cell_type": "markdown",
   "metadata": {
    "colab_type": "text",
    "id": "Ii6-AXBzWdY2"
   },
   "source": [
    "**Data:**\n",
    "\n",
    "We will use airline industry tweets for our analysis. Alternatively, we may use twitter datasets sourced from Kaggle.\n"
   ]
  },
  {
   "cell_type": "code",
   "execution_count": 1,
   "metadata": {},
   "outputs": [],
   "source": [
    "%load_ext rpy2.ipython\n",
    "import warnings\n",
    "warnings.filterwarnings('ignore')"
   ]
  },
  {
   "cell_type": "code",
   "execution_count": 2,
   "metadata": {
    "colab": {},
    "colab_type": "code",
    "id": "E9crwZJOWjUh"
   },
   "outputs": [],
   "source": [
    "import numpy\n",
    "import pandas as pd\n",
    "from sklearn.model_selection import train_test_split\n",
    "import nltk\n",
    "from nltk.tree import *\n",
    "import matplotlib.pyplot as plt"
   ]
  },
  {
   "cell_type": "code",
   "execution_count": 3,
   "metadata": {},
   "outputs": [],
   "source": [
    "%%R\n",
    "library(dplyr)\n",
    "library(reticulate)\n",
    "library(ggplot2)\n",
    "library(rtweet)"
   ]
  },
  {
   "cell_type": "markdown",
   "metadata": {},
   "source": [
    "# U.S. Airline Twitter"
   ]
  },
  {
   "cell_type": "markdown",
   "metadata": {},
   "source": [
    "**Load the Data**"
   ]
  },
  {
   "cell_type": "code",
   "execution_count": 4,
   "metadata": {},
   "outputs": [
    {
     "name": "stdout",
     "output_type": "stream",
     "text": [
      "[nltk_data] Downloading package stopwords to /home/gitpod/nltk_data...\n",
      "[nltk_data]   Package stopwords is already up-to-date!\n"
     ]
    }
   ],
   "source": [
    "nltk.download(\"stopwords\") # Load StopWords\n",
    "tweets_dataset = pd.read_csv(\"data/US_Airline_Tweets.csv\") # Load Data\n",
    "\n",
    "# %Rpush tweets_dataset"
   ]
  },
  {
   "cell_type": "code",
   "execution_count": 5,
   "metadata": {},
   "outputs": [],
   "source": [
    "%%R\n",
    "\n",
    "tweets_df <- read.csv(\"data/US_Airline_Tweets.csv\", encoding = \"UTF-8\", header=TRUE, stringsAsFactors=FALSE)"
   ]
  },
  {
   "cell_type": "markdown",
   "metadata": {},
   "source": [
    "**Data Exploration**"
   ]
  },
  {
   "cell_type": "markdown",
   "metadata": {},
   "source": [
    "_Data Columns:_"
   ]
  },
  {
   "cell_type": "code",
   "execution_count": 6,
   "metadata": {},
   "outputs": [
    {
     "data": {
      "text/plain": [
       " [1] \"tweet_id\"                     \"airline_sentiment\"           \n",
       " [3] \"airline_sentiment_confidence\" \"negativereason\"              \n",
       " [5] \"negativereason_confidence\"    \"airline\"                     \n",
       " [7] \"airline_sentiment_gold\"       \"name\"                        \n",
       " [9] \"negativereason_gold\"          \"retweet_count\"               \n",
       "[11] \"text\"                         \"tweet_coord\"                 \n",
       "[13] \"tweet_created\"                \"tweet_location\"              \n",
       "[15] \"user_timezone\"               \n"
      ]
     },
     "metadata": {},
     "output_type": "display_data"
    }
   ],
   "source": [
    "%%R\n",
    "tweets_df %>% colnames() # Columns"
   ]
  },
  {
   "cell_type": "markdown",
   "metadata": {},
   "source": [
    "_Data Dimention / Shape:_"
   ]
  },
  {
   "cell_type": "code",
   "execution_count": 7,
   "metadata": {},
   "outputs": [
    {
     "data": {
      "text/plain": [
       "[1] 14640    15\n"
      ]
     },
     "metadata": {},
     "output_type": "display_data"
    }
   ],
   "source": [
    "%%R\n",
    "tweets_df %>% dim() # Shape / Dimension"
   ]
  },
  {
   "cell_type": "markdown",
   "metadata": {},
   "source": [
    "_Data Summary:_"
   ]
  },
  {
   "cell_type": "code",
   "execution_count": 8,
   "metadata": {},
   "outputs": [
    {
     "data": {
      "text/plain": [
       "    tweet_id         airline_sentiment  airline_sentiment_confidence\n",
       " Min.   :5.676e+17   Length:14640       Min.   :0.3350              \n",
       " 1st Qu.:5.686e+17   Class :character   1st Qu.:0.6923              \n",
       " Median :5.695e+17   Mode  :character   Median :1.0000              \n",
       " Mean   :5.692e+17                      Mean   :0.9002              \n",
       " 3rd Qu.:5.699e+17                      3rd Qu.:1.0000              \n",
       " Max.   :5.703e+17                      Max.   :1.0000              \n",
       "                                                                    \n",
       " negativereason     negativereason_confidence   airline         \n",
       " Length:14640       Min.   :0.000             Length:14640      \n",
       " Class :character   1st Qu.:0.361             Class :character  \n",
       " Mode  :character   Median :0.671             Mode  :character  \n",
       "                    Mean   :0.638                               \n",
       "                    3rd Qu.:1.000                               \n",
       "                    Max.   :1.000                               \n",
       "                    NA's   :4118                                \n",
       " airline_sentiment_gold     name           negativereason_gold\n",
       " Length:14640           Length:14640       Length:14640       \n",
       " Class :character       Class :character   Class :character   \n",
       " Mode  :character       Mode  :character   Mode  :character   \n",
       "                                                              \n",
       "                                                              \n",
       "                                                              \n",
       "                                                              \n",
       " retweet_count          text           tweet_coord        tweet_created     \n",
       " Min.   : 0.00000   Length:14640       Length:14640       Length:14640      \n",
       " 1st Qu.: 0.00000   Class :character   Class :character   Class :character  \n",
       " Median : 0.00000   Mode  :character   Mode  :character   Mode  :character  \n",
       " Mean   : 0.08265                                                           \n",
       " 3rd Qu.: 0.00000                                                           \n",
       " Max.   :44.00000                                                           \n",
       "                                                                            \n",
       " tweet_location     user_timezone     \n",
       " Length:14640       Length:14640      \n",
       " Class :character   Class :character  \n",
       " Mode  :character   Mode  :character  \n",
       "                                      \n",
       "                                      \n",
       "                                      \n",
       "                                      \n"
      ]
     },
     "metadata": {},
     "output_type": "display_data"
    }
   ],
   "source": [
    "%%R\n",
    "tweets_df %>% summary() # Data Summary"
   ]
  },
  {
   "cell_type": "markdown",
   "metadata": {},
   "source": [
    "_positive, negative, and neutral tweets shapes:_"
   ]
  },
  {
   "cell_type": "code",
   "execution_count": 9,
   "metadata": {},
   "outputs": [
    {
     "name": "stdout",
     "output_type": "stream",
     "text": [
      "positive tweets shape: (14640,)\n",
      "negative tweets shape: (14640,)\n",
      "neutral tweets shape: (14640,)\n"
     ]
    }
   ],
   "source": [
    "positive_tweets = tweets_dataset['airline_sentiment'].str.contains(\"positive\")\n",
    "negative_tweets = tweets_dataset['airline_sentiment'].str.contains(\"negative\")\n",
    "neutral_tweets = tweets_dataset['airline_sentiment'].str.contains(\"neutral\")\n",
    "\n",
    "\n",
    "print(f'positive tweets shape: {positive_tweets.shape}')\n",
    "print(f'negative tweets shape: {negative_tweets.shape}')\n",
    "print(f'neutral tweets shape: {neutral_tweets.shape}')"
   ]
  },
  {
   "cell_type": "markdown",
   "metadata": {},
   "source": [
    "_airlines tweets shapes:_"
   ]
  },
  {
   "cell_type": "code",
   "execution_count": 14,
   "metadata": {},
   "outputs": [
    {
     "name": "stdout",
     "output_type": "stream",
     "text": [
      "American Tweets Shape: (14640,)\n",
      "Delta Tweets Shape: (14640,)\n",
      "Southwest Tweets Shape: (14640,)\n",
      "United Tweets Shape: (14640,)\n",
      "VAmerica Tweets Shape: (14640,)\n",
      "USair Tweets Shape: (14640,)\n"
     ]
    }
   ],
   "source": [
    "American = tweets_dataset['airline'].str.contains(\"American\")\n",
    "Delta = tweets_dataset['airline'].str.contains(\"Delta\")\n",
    "Southwest = tweets_dataset['airline'].str.contains(\"Southwest\")\n",
    "United = tweets_dataset['airline'].str.contains(\"United\")\n",
    "VAmerica = tweets_dataset['airline'].str.contains(\"Virgin America\")\n",
    "USair = tweets_dataset['airline'].str.contains(\"US Airways\")\n",
    "\n",
    "print(f'American Tweets Shape: {American.shape}')\n",
    "print(f'Delta Tweets Shape: {Delta.shape}')\n",
    "print(f'Southwest Tweets Shape: {Southwest.shape}')\n",
    "print(f'United Tweets Shape: {United.shape}')\n",
    "print(f'VAmerica Tweets Shape: {VAmerica.shape}')\n",
    "print(f'USair Tweets Shape: {USair.shape}')"
   ]
  },
  {
   "cell_type": "code",
   "execution_count": 11,
   "metadata": {},
   "outputs": [
    {
     "data": {
      "image/png": "[encoded data removed]"
     },
     "metadata": {},
     "output_type": "display_data"
    }
   ],
   "source": [
    "%%R\n",
    "tweets_sentiment_groups_df <- tweets_df %>%\n",
    "    group_by(airline_sentiment) %>%\n",
    "    rowwise() %>%\n",
    "    mutate(SENTIMENT_COUNT = n()) %>%\n",
    "    select(airline, airline_sentiment, SENTIMENT_COUNT)\n",
    "\n",
    "# tweets_sentiment_groups_df %>% head()\n",
    "    \n",
    "ggplot(tweets_sentiment_groups_df, aes(x = airline, y = SENTIMENT_COUNT, fill=airline_sentiment)) +\n",
    "  geom_bar(stat=\"identity\") +\n",
    "  coord_flip() +\n",
    "  scale_y_continuous(name=\"Sentiment Tallies\", labels = scales::comma) +\n",
    "  ggtitle(\"Airline Sentiment Type Counts\")"
   ]
  },
  {
   "cell_type": "markdown",
   "metadata": {},
   "source": [
    "**Train Test Split**"
   ]
  },
  {
   "cell_type": "code",
   "execution_count": 15,
   "metadata": {},
   "outputs": [
    {
     "name": "stdout",
     "output_type": "stream",
     "text": [
      "tweets_dataset_train tweets shape: (11712, 15)\n",
      "tweets_dataset_test tweets shape: (2928, 15)\n"
     ]
    }
   ],
   "source": [
    "tweets_dataset_train, tweets_dataset_test = train_test_split(\n",
    "    tweets_dataset, test_size=0.2\n",
    ")\n",
    "\n",
    "print(f'tweets_dataset_train tweets shape: {tweets_dataset_train.shape}')\n",
    "print(f'tweets_dataset_test tweets shape: {tweets_dataset_test.shape}')"
   ]
  },
  {
   "cell_type": "code",
   "execution_count": null,
   "metadata": {},
   "outputs": [],
   "source": []
  }
 ],
 "metadata": {
  "colab": {
   "name": "U.S.AirlineTwitterSentimentAnalysis.ipynb",
   "provenance": [],
   "version": "0.3.2"
  },
  "kernelspec": {
   "display_name": "Python 3",
   "language": "python",
   "name": "python3"
  },
  "language_info": {
   "codemirror_mode": {
    "name": "ipython",
    "version": 3
   },
   "file_extension": ".py",
   "mimetype": "text/x-python",
   "name": "python",
   "nbconvert_exporter": "python",
   "pygments_lexer": "ipython3",
   "version": "3.6.7"
  }
 },
 "nbformat": 4,
 "nbformat_minor": 2
}
